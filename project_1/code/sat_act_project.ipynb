{
 "cells": [
  {
   "cell_type": "markdown",
   "metadata": {},
   "source": [
    "# ACT & SAT Analysis"
   ]
  },
  {
   "cell_type": "markdown",
   "metadata": {},
   "source": [
    "# Problem Statement:\n",
    "## Look at aggregate SAT and ACT scores and participation rates from each state in the United States. We'll seek to identify trends in the data and combine our data analysis with outside research to identify likely factors influencing participation rates and scores in various states. As an employee of the College Board - the organization that administers the SAT - you are a part of a team that tracks statewide participation and recommends where money is best spent to improve SAT participation rates."
   ]
  },
  {
   "cell_type": "markdown",
   "metadata": {},
   "source": [
    "### Import necessary libraries"
   ]
  },
  {
   "cell_type": "code",
   "execution_count": 1,
   "metadata": {},
   "outputs": [],
   "source": [
    "import random\n",
    "import pandas as pd\n",
    "import matplotlib.pyplot as plt\n",
    "import numpy as np\n",
    "import seaborn as sns\n",
    "%matplotlib inline"
   ]
  },
  {
   "cell_type": "code",
   "execution_count": 2,
   "metadata": {},
   "outputs": [],
   "source": [
    "sat17 = pd.read_csv('../data/sat_2017.csv')\n",
    "act17 = pd.read_csv('../data/act_2017.csv')\n",
    "sat18 = pd.read_csv('../data/East_Coast_Data_Entry - SAT 2018.csv')\n",
    "act18 = pd.read_csv('../data/East_Coast_Data_Entry - ACT 2018.csv')"
   ]
  },
  {
   "cell_type": "code",
   "execution_count": 3,
   "metadata": {},
   "outputs": [],
   "source": [
    "sat17.loc[20,['Math']] = 524"
   ]
  },
  {
   "cell_type": "code",
   "execution_count": 4,
   "metadata": {},
   "outputs": [
    {
     "name": "stdout",
     "output_type": "stream",
     "text": [
      "<class 'pandas.core.frame.DataFrame'>\n",
      "RangeIndex: 51 entries, 0 to 50\n",
      "Data columns (total 5 columns):\n",
      "State                                 51 non-null object\n",
      "Participation                         51 non-null object\n",
      "Evidence-Based Reading and Writing    51 non-null int64\n",
      "Math                                  51 non-null int64\n",
      "Total                                 51 non-null int64\n",
      "dtypes: int64(3), object(2)\n",
      "memory usage: 2.1+ KB\n"
     ]
    }
   ],
   "source": [
    "sat17.info()"
   ]
  },
  {
   "cell_type": "code",
   "execution_count": 5,
   "metadata": {},
   "outputs": [],
   "source": [
    "act17['Participation'] = act17['Participation'].apply(lambda x: x.replace('%',''))\n",
    "act18['Participation'] = act18['Participation'].apply(lambda x: x.replace('%',''))\n",
    "sat17['Participation'] = sat17['Participation'].apply(lambda x: x.replace('%',''))\n",
    "sat18['Participation'] = sat18['Participation'].apply(lambda x: x.replace('%',''))"
   ]
  },
  {
   "cell_type": "code",
   "execution_count": 6,
   "metadata": {},
   "outputs": [],
   "source": [
    "act17['Participation'] = act17['Participation'].astype('float')\n",
    "act18['Participation'] = act18['Participation'].astype('float')\n",
    "sat17['Participation'] = sat17['Participation'].astype('float')\n",
    "sat18['Participation'] = sat18['Participation'].astype('float')"
   ]
  },
  {
   "cell_type": "code",
   "execution_count": 7,
   "metadata": {},
   "outputs": [],
   "source": [
    "sat17.rename(columns={'State'                             :'state',\n",
    "                      'Participation'                     :'s17_part', \n",
    "                      'Evidence-Based Reading and Writing':'s17_read_write', \n",
    "                      'Math'                              :'s17_math',\n",
    "                      'Total'                             :'s17_total'}, inplace=True)"
   ]
  },
  {
   "cell_type": "code",
   "execution_count": 8,
   "metadata": {},
   "outputs": [],
   "source": [
    "sat18.rename(columns={'State'                             :'state',\n",
    "                      'Participation'                     :'s18_part', \n",
    "                      'Evidence-Based Reading and Writing':'s18_read_write', \n",
    "                      'Math'                              :'s18_math',\n",
    "                      'Total'                             :'s18_total'}, inplace=True)"
   ]
  },
  {
   "cell_type": "code",
   "execution_count": 9,
   "metadata": {},
   "outputs": [],
   "source": [
    "act17.rename(columns={'State'        :'state', \n",
    "                      'Participation':'a17_part', \n",
    "                      'English'      :'a17_english', \n",
    "                      'Math'         :'a17_math', \n",
    "                      'Reading'      :'a17_reading', \n",
    "                      'Science'      :'a17_science',\n",
    "                      'Composite'    :'a17_composite'}, inplace=True)"
   ]
  },
  {
   "cell_type": "code",
   "execution_count": 10,
   "metadata": {},
   "outputs": [],
   "source": [
    "act18.rename(columns={'State'        :'state',\n",
    "                      'Participation':'a18_part',\n",
    "                      'Composite'    :'a18_composite'}, inplace=True)"
   ]
  },
  {
   "cell_type": "code",
   "execution_count": 16,
   "metadata": {},
   "outputs": [],
   "source": [
    "act17.loc[51,['a17_composite']] = 20.2"
   ]
  },
  {
   "cell_type": "code",
   "execution_count": 28,
   "metadata": {},
   "outputs": [],
   "source": [
    "act17['a17_composite'] = act17['a17_composite'].astype('float')"
   ]
  },
  {
   "cell_type": "code",
   "execution_count": 29,
   "metadata": {},
   "outputs": [
    {
     "data": {
      "text/plain": [
       "state             object\n",
       "a17_part         float64\n",
       "a17_english      float64\n",
       "a17_math         float64\n",
       "a17_reading      float64\n",
       "a17_science      float64\n",
       "a17_composite    float64\n",
       "dtype: object"
      ]
     },
     "execution_count": 29,
     "metadata": {},
     "output_type": "execute_result"
    }
   ],
   "source": [
    "act17.dtypes"
   ]
  },
  {
   "cell_type": "code",
   "execution_count": 36,
   "metadata": {},
   "outputs": [],
   "source": [
    "act17.drop([0], inplace=True)"
   ]
  },
  {
   "cell_type": "code",
   "execution_count": 39,
   "metadata": {},
   "outputs": [],
   "source": [
    "act18.drop([51], inplace=True)"
   ]
  },
  {
   "cell_type": "code",
   "execution_count": 41,
   "metadata": {},
   "outputs": [],
   "source": [
    "sat18.drop([51], inplace=True)"
   ]
  },
  {
   "cell_type": "code",
   "execution_count": 45,
   "metadata": {},
   "outputs": [],
   "source": [
    "act18.loc[8, ['state']] = 'District of Columbia'"
   ]
  },
  {
   "cell_type": "code",
   "execution_count": 62,
   "metadata": {},
   "outputs": [],
   "source": [
    "both17 = pd.merge(sat17, act17, how='inner', on='state')"
   ]
  },
  {
   "cell_type": "code",
   "execution_count": 63,
   "metadata": {},
   "outputs": [],
   "source": [
    "both18 = pd.merge(sat18, act18, how='inner', on='state')"
   ]
  },
  {
   "cell_type": "code",
   "execution_count": 67,
   "metadata": {},
   "outputs": [],
   "source": [
    "both17_18 = pd.merge(both17, both18, how='inner', on='state')"
   ]
  },
  {
   "cell_type": "code",
   "execution_count": 75,
   "metadata": {},
   "outputs": [
    {
     "data": {
      "text/html": [
       "<div>\n",
       "<style scoped>\n",
       "    .dataframe tbody tr th:only-of-type {\n",
       "        vertical-align: middle;\n",
       "    }\n",
       "\n",
       "    .dataframe tbody tr th {\n",
       "        vertical-align: top;\n",
       "    }\n",
       "\n",
       "    .dataframe thead th {\n",
       "        text-align: right;\n",
       "    }\n",
       "</style>\n",
       "<table border=\"1\" class=\"dataframe\">\n",
       "  <thead>\n",
       "    <tr style=\"text-align: right;\">\n",
       "      <th></th>\n",
       "      <th>count</th>\n",
       "      <th>mean</th>\n",
       "      <th>std</th>\n",
       "      <th>min</th>\n",
       "      <th>25%</th>\n",
       "      <th>50%</th>\n",
       "      <th>75%</th>\n",
       "      <th>max</th>\n",
       "    </tr>\n",
       "  </thead>\n",
       "  <tbody>\n",
       "    <tr>\n",
       "      <th>s17_part</th>\n",
       "      <td>51.0</td>\n",
       "      <td>39.803922</td>\n",
       "      <td>35.276632</td>\n",
       "      <td>2.0</td>\n",
       "      <td>4.00</td>\n",
       "      <td>38.0</td>\n",
       "      <td>66.00</td>\n",
       "      <td>100.0</td>\n",
       "    </tr>\n",
       "    <tr>\n",
       "      <th>s17_read_write</th>\n",
       "      <td>51.0</td>\n",
       "      <td>569.117647</td>\n",
       "      <td>45.666901</td>\n",
       "      <td>482.0</td>\n",
       "      <td>533.50</td>\n",
       "      <td>559.0</td>\n",
       "      <td>613.00</td>\n",
       "      <td>644.0</td>\n",
       "    </tr>\n",
       "    <tr>\n",
       "      <th>s17_math</th>\n",
       "      <td>51.0</td>\n",
       "      <td>556.882353</td>\n",
       "      <td>47.121395</td>\n",
       "      <td>468.0</td>\n",
       "      <td>523.50</td>\n",
       "      <td>548.0</td>\n",
       "      <td>599.00</td>\n",
       "      <td>651.0</td>\n",
       "    </tr>\n",
       "    <tr>\n",
       "      <th>s17_total</th>\n",
       "      <td>51.0</td>\n",
       "      <td>1126.098039</td>\n",
       "      <td>92.494812</td>\n",
       "      <td>950.0</td>\n",
       "      <td>1055.50</td>\n",
       "      <td>1107.0</td>\n",
       "      <td>1212.00</td>\n",
       "      <td>1295.0</td>\n",
       "    </tr>\n",
       "    <tr>\n",
       "      <th>a17_part</th>\n",
       "      <td>51.0</td>\n",
       "      <td>65.254902</td>\n",
       "      <td>32.140842</td>\n",
       "      <td>8.0</td>\n",
       "      <td>31.00</td>\n",
       "      <td>69.0</td>\n",
       "      <td>100.00</td>\n",
       "      <td>100.0</td>\n",
       "    </tr>\n",
       "    <tr>\n",
       "      <th>a17_english</th>\n",
       "      <td>51.0</td>\n",
       "      <td>20.931373</td>\n",
       "      <td>2.353677</td>\n",
       "      <td>16.3</td>\n",
       "      <td>19.00</td>\n",
       "      <td>20.7</td>\n",
       "      <td>23.30</td>\n",
       "      <td>25.5</td>\n",
       "    </tr>\n",
       "    <tr>\n",
       "      <th>a17_math</th>\n",
       "      <td>51.0</td>\n",
       "      <td>21.182353</td>\n",
       "      <td>1.981989</td>\n",
       "      <td>18.0</td>\n",
       "      <td>19.40</td>\n",
       "      <td>20.9</td>\n",
       "      <td>23.10</td>\n",
       "      <td>25.3</td>\n",
       "    </tr>\n",
       "    <tr>\n",
       "      <th>a17_reading</th>\n",
       "      <td>51.0</td>\n",
       "      <td>22.013725</td>\n",
       "      <td>2.067271</td>\n",
       "      <td>18.1</td>\n",
       "      <td>20.45</td>\n",
       "      <td>21.8</td>\n",
       "      <td>24.15</td>\n",
       "      <td>26.0</td>\n",
       "    </tr>\n",
       "    <tr>\n",
       "      <th>a17_science</th>\n",
       "      <td>51.0</td>\n",
       "      <td>21.041176</td>\n",
       "      <td>3.182463</td>\n",
       "      <td>2.3</td>\n",
       "      <td>19.90</td>\n",
       "      <td>21.3</td>\n",
       "      <td>22.75</td>\n",
       "      <td>24.9</td>\n",
       "    </tr>\n",
       "    <tr>\n",
       "      <th>a17_composite</th>\n",
       "      <td>51.0</td>\n",
       "      <td>21.519608</td>\n",
       "      <td>2.020695</td>\n",
       "      <td>17.8</td>\n",
       "      <td>19.80</td>\n",
       "      <td>21.4</td>\n",
       "      <td>23.60</td>\n",
       "      <td>25.5</td>\n",
       "    </tr>\n",
       "    <tr>\n",
       "      <th>s18_part</th>\n",
       "      <td>51.0</td>\n",
       "      <td>45.235294</td>\n",
       "      <td>37.300718</td>\n",
       "      <td>2.0</td>\n",
       "      <td>4.50</td>\n",
       "      <td>48.0</td>\n",
       "      <td>77.50</td>\n",
       "      <td>100.0</td>\n",
       "    </tr>\n",
       "    <tr>\n",
       "      <th>s18_read_write</th>\n",
       "      <td>51.0</td>\n",
       "      <td>567.705882</td>\n",
       "      <td>45.311056</td>\n",
       "      <td>497.0</td>\n",
       "      <td>535.00</td>\n",
       "      <td>554.0</td>\n",
       "      <td>616.50</td>\n",
       "      <td>643.0</td>\n",
       "    </tr>\n",
       "    <tr>\n",
       "      <th>s18_math</th>\n",
       "      <td>51.0</td>\n",
       "      <td>558.450980</td>\n",
       "      <td>49.464862</td>\n",
       "      <td>480.0</td>\n",
       "      <td>521.50</td>\n",
       "      <td>547.0</td>\n",
       "      <td>601.00</td>\n",
       "      <td>655.0</td>\n",
       "    </tr>\n",
       "    <tr>\n",
       "      <th>s18_total</th>\n",
       "      <td>51.0</td>\n",
       "      <td>1126.156863</td>\n",
       "      <td>94.444136</td>\n",
       "      <td>977.0</td>\n",
       "      <td>1063.00</td>\n",
       "      <td>1099.0</td>\n",
       "      <td>1220.00</td>\n",
       "      <td>1298.0</td>\n",
       "    </tr>\n",
       "    <tr>\n",
       "      <th>a18_part</th>\n",
       "      <td>51.0</td>\n",
       "      <td>61.725490</td>\n",
       "      <td>34.037085</td>\n",
       "      <td>7.0</td>\n",
       "      <td>28.50</td>\n",
       "      <td>66.0</td>\n",
       "      <td>100.00</td>\n",
       "      <td>100.0</td>\n",
       "    </tr>\n",
       "    <tr>\n",
       "      <th>a18_composite</th>\n",
       "      <td>51.0</td>\n",
       "      <td>21.496078</td>\n",
       "      <td>2.111583</td>\n",
       "      <td>17.7</td>\n",
       "      <td>19.95</td>\n",
       "      <td>21.3</td>\n",
       "      <td>23.65</td>\n",
       "      <td>25.6</td>\n",
       "    </tr>\n",
       "  </tbody>\n",
       "</table>\n",
       "</div>"
      ],
      "text/plain": [
       "                count         mean        std    min      25%     50%  \\\n",
       "s17_part         51.0    39.803922  35.276632    2.0     4.00    38.0   \n",
       "s17_read_write   51.0   569.117647  45.666901  482.0   533.50   559.0   \n",
       "s17_math         51.0   556.882353  47.121395  468.0   523.50   548.0   \n",
       "s17_total        51.0  1126.098039  92.494812  950.0  1055.50  1107.0   \n",
       "a17_part         51.0    65.254902  32.140842    8.0    31.00    69.0   \n",
       "a17_english      51.0    20.931373   2.353677   16.3    19.00    20.7   \n",
       "a17_math         51.0    21.182353   1.981989   18.0    19.40    20.9   \n",
       "a17_reading      51.0    22.013725   2.067271   18.1    20.45    21.8   \n",
       "a17_science      51.0    21.041176   3.182463    2.3    19.90    21.3   \n",
       "a17_composite    51.0    21.519608   2.020695   17.8    19.80    21.4   \n",
       "s18_part         51.0    45.235294  37.300718    2.0     4.50    48.0   \n",
       "s18_read_write   51.0   567.705882  45.311056  497.0   535.00   554.0   \n",
       "s18_math         51.0   558.450980  49.464862  480.0   521.50   547.0   \n",
       "s18_total        51.0  1126.156863  94.444136  977.0  1063.00  1099.0   \n",
       "a18_part         51.0    61.725490  34.037085    7.0    28.50    66.0   \n",
       "a18_composite    51.0    21.496078   2.111583   17.7    19.95    21.3   \n",
       "\n",
       "                    75%     max  \n",
       "s17_part          66.00   100.0  \n",
       "s17_read_write   613.00   644.0  \n",
       "s17_math         599.00   651.0  \n",
       "s17_total       1212.00  1295.0  \n",
       "a17_part         100.00   100.0  \n",
       "a17_english       23.30    25.5  \n",
       "a17_math          23.10    25.3  \n",
       "a17_reading       24.15    26.0  \n",
       "a17_science       22.75    24.9  \n",
       "a17_composite     23.60    25.5  \n",
       "s18_part          77.50   100.0  \n",
       "s18_read_write   616.50   643.0  \n",
       "s18_math         601.00   655.0  \n",
       "s18_total       1220.00  1298.0  \n",
       "a18_part         100.00   100.0  \n",
       "a18_composite     23.65    25.6  "
      ]
     },
     "execution_count": 75,
     "metadata": {},
     "output_type": "execute_result"
    }
   ],
   "source": [
    "both17_18.describe().T"
   ]
  },
  {
   "cell_type": "code",
   "execution_count": 73,
   "metadata": {},
   "outputs": [
    {
     "data": {
      "text/plain": [
       "s17_part          34.929071\n",
       "s17_read_write    45.216970\n",
       "s17_math          46.657134\n",
       "s17_total         91.583511\n",
       "a17_part          31.824176\n",
       "a17_english        2.330488\n",
       "a17_math           1.962462\n",
       "a17_reading        2.046903\n",
       "a17_science        3.151108\n",
       "a17_composite      2.000786\n",
       "s18_part          36.933214\n",
       "s18_read_write    44.864630\n",
       "s18_math          48.977511\n",
       "s18_total         93.513630\n",
       "a18_part          33.701736\n",
       "a18_composite      2.090779\n",
       "dtype: float64"
      ]
     },
     "execution_count": 73,
     "metadata": {},
     "output_type": "execute_result"
    }
   ],
   "source": [
    "np.std(both17_18)"
   ]
  },
  {
   "cell_type": "code",
   "execution_count": null,
   "metadata": {},
   "outputs": [],
   "source": []
  }
 ],
 "metadata": {
  "kernelspec": {
   "display_name": "Python 3",
   "language": "python",
   "name": "python3"
  },
  "language_info": {
   "codemirror_mode": {
    "name": "ipython",
    "version": 3
   },
   "file_extension": ".py",
   "mimetype": "text/x-python",
   "name": "python",
   "nbconvert_exporter": "python",
   "pygments_lexer": "ipython3",
   "version": "3.6.7"
  }
 },
 "nbformat": 4,
 "nbformat_minor": 2
}
